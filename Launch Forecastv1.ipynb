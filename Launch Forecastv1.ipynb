{
 "cells": [
  {
   "cell_type": "code",
   "execution_count": 1,
   "metadata": {},
   "outputs": [],
   "source": [
    "# Define payload\n",
    "## Name\n",
    "## Mass\n",
    "## Operator\n",
    "## Orbital Destination\n",
    "## Ariane 5 ECA/ME Position  <- consider removing for now\n",
    "## Target launch year\n",
    "## Launch Vehicle Preference - Normalized\n",
    "\n",
    "# Define Launch Vehicle\n",
    "## Name\n",
    "## Price\n",
    "## Capacity\n",
    "    ## GEO Capacity\n",
    "    ## GTO Capacity\n",
    "    ## LEO Capacity\n",
    "    ## SSO Capacity\n",
    "## Maximum Launch Throughput\n",
    "## Packing constraints (for dual manifesting)\n",
    "## Failure Rate\n",
    "## Operator Priority\n",
    "\n",
    "# Define Operator\n",
    "## Name\n",
    "## Launch Vehicle Preference"
   ]
  },
  {
   "cell_type": "code",
   "execution_count": 2,
   "metadata": {},
   "outputs": [],
   "source": [
    "# User inputs\n",
    "## prob_secondary_payload_available_ariane_5 = 0.88\n",
    "## prob_secondary_payload_available_falcon_heavy = 0.88"
   ]
  },
  {
   "cell_type": "code",
   "execution_count": 3,
   "metadata": {},
   "outputs": [],
   "source": [
    "# For each payload\n",
    "    # For each launch_vehicle\n",
    "        # If launch_vehicle.capacity[payload.destination] >= payload.mass\n",
    "            # Get operator[payload.operator].preference[launch_vehicle]\n",
    "        # Else \n",
    "# For each payload\n",
    "    # Normalize preferences <- You don't really have to normalize\n",
    "    # Generate math.random() might wnat to make this a backgroun process\n",
    "    # Select launch vehicle based on normalized preferences\n",
    "    # Use counter to figure out if overmanifesting\n",
    "# For each payload\n",
    "    # check if matching payload for Ariane 5 (88% if a Lower)\n",
    "    # check if partner payload for Falcon Heavy (88% chance if a Falcon Heavy)\n",
    "    # check if partner payload for Vulcan Heavy (88% if a Vulcan Heavy)\n",
    "# For each Arianne payload\n",
    "    # Reshuffle\n",
    "# For each Falcon Heavy payload\n",
    "    # Reshuffle\n",
    "# For each Vulcan Heavy payload\n",
    "    # Reshuffle\n",
    "# For each overmanifested payload\n",
    "    # Get launch_vehicle.operator_priority[payload.operator] to determine which payloads get reassigned\n",
    "    # Use prob of waiting until next year to get first choice\n",
    "    # "
   ]
  },
  {
   "cell_type": "code",
   "execution_count": 4,
   "metadata": {},
   "outputs": [],
   "source": [
    "# For each payload\n",
    "    # For each launch_vehicle\n",
    "        # If launch_vehicle.capacity[payload.destination] >= payload.mass\n",
    "            # Get operator[payload.operator].preference[launch_vehicle]\n",
    "        # Else \n",
    "# For each payload\n",
    "    # Normalize preferences <- You don't really have to normalize\n",
    "    # Generate math.random()\n",
    "    # Select launch vehicle based on normalized preferences\n",
    "    # Use counter to figure out if overmanifesting\n",
    "# For each overmanifested payload\n",
    "    # Get launch_vehicle.operator_priority[payload.operator] to determine which payloads get reassigned\n",
    "    # Use prob to determine if waiting until next year to get first choice or if going on another choice\n",
    "    # "
   ]
  },
  {
   "cell_type": "code",
   "execution_count": 2,
   "metadata": {},
   "outputs": [],
   "source": [
    "import numpy as np\n",
    "import math\n",
    "import csv"
   ]
  },
  {
   "cell_type": "code",
   "execution_count": 6,
   "metadata": {},
   "outputs": [],
   "source": [
    "class Payload:\n",
    "    def __init__(self, name, mass, operator, destination, launch_year):\n",
    "        self.name = name\n",
    "        self.mass = mass\n",
    "        self.operator = operator\n",
    "        self.destination = destination\n",
    "        self.target_launch_year = launch_year\n",
    "        #self.launch_year\n",
    "        #self.selected_LV"
   ]
  },
  {
   "cell_type": "code",
   "execution_count": 9,
   "metadata": {},
   "outputs": [],
   "source": [
    "class Launch_Vehicle:\n",
    "    def __init__(self, name, price, capacity, max_throughput, failure, operator_priority):\n",
    "        self.name = name\n",
    "        #self.price = price # i can probably ignore this for now\n",
    "        self.capacity = capacity # [GEO(0), GTO(1), LEO(2), SSO(3)] we're going to simplify and say payloads can't dual manifest\n",
    "        #self.currentLoad = 0 this doesn't make sense if there are multiple launch of an lv in a year\n",
    "        #self.currentOrbit = null this doesn't make sense if there are multiples of a single lv in a year\n",
    "        self.throughput = 0\n",
    "        self.max_throughput = max_throughput #ignoring that you can do a max throughput per year\n",
    "        #self.failure = failure ignore for now\n",
    "        #self.first_year = 0 I'd rather ignore that for now\n",
    "        self.preferences_order = \n",
    "        self.operator_priority = operator_priority # [Ariane Fan Club(0), Asia Pacific Operato(1), Eutelsat(2), \n",
    "                                    # MSS GEO(3), Intelsat(4), Middle East and Africa Operators(5),\n",
    "                                    # North America and Similar(6), New Commercial Entrant(7), SES(8),\n",
    "                                    # Sirius XM(9), Telesat and some regional(10), NGSO Telecom(11), OneWeb(12),\n",
    "                                    # DigitalGlobe(13), ESA and Other Eu National Space Agencies(14),\n",
    "                                    # ISRO(15), JAXA(16), Existing Government Operators(17),\n",
    "                                    # New Government Operators(18), US Gov(19), Russian Gov(20), Chinese Gov(21),\n",
    "                                    # Launch brokers(22), New Space EO(23), Satellite Servicing(24)]"
   ]
  },
  {
   "cell_type": "code",
   "execution_count": 10,
   "metadata": {},
   "outputs": [],
   "source": [
    "class Operator:\n",
    "    def __init__(self, name, launch_vehicle_preference):\n",
    "        self.name = name\n",
    "        self.launch_vehicle_preference = launch_vehicle_preference"
   ]
  },
  {
   "cell_type": "code",
   "execution_count": null,
   "metadata": {},
   "outputs": [],
   "source": [
    "numYears = lastYear-firstYear\n",
    "numLaunchVehicles = #somehow count # of launch vehicles"
   ]
  },
  {
   "cell_type": "code",
   "execution_count": null,
   "metadata": {},
   "outputs": [],
   "source": [
    "launchCountTable = np.array(numYears,numLaunchVehicles)"
   ]
  },
  {
   "cell_type": "code",
   "execution_count": null,
   "metadata": {},
   "outputs": [],
   "source": [
    "def Simulation(payloadfile,lvfile,numRuns):\n",
    "    #parse payloadfile\n",
    "    #parse lvfile\n",
    "    # for x runs\n",
    "\n",
    "        # iterate through each payload for the first round of flight options\n",
    "                #in: payload mass, payload orbit, lv capacity at payload orbit\n",
    "                #out: preference of payload operator for lv\n",
    "                #out: randomly pick which lv the operator picks based on dist\n",
    "        # figure out which vehicles are overmanifested in which years\n",
    "                #need launch year, \n",
    "            #count up the number of rides per vehicle per year\n",
    "        # figure out which payloads get bumped\n",
    "        # figure out if payloads move to 2nd choice or to the next year\n",
    "        # iteratively propagate bumping payload flights until everyone has a ride\n",
    "        # count up the # of launches per year\n",
    "        # out: # launches per year per LV\n",
    "    # out: avg # launches per year per LV"
   ]
  },
  {
   "cell_type": "code",
   "execution_count": null,
   "metadata": {},
   "outputs": [],
   "source": [
    "def HandleOvermanifesting(listOfLaunchVehicles,listOfPayloadSelects,listOfPayloadLaunchYears):\n",
    "    for each year in years:\n",
    "        # get payloads for each year\n",
    "        lvLaunchCapacities = CompareLVCurrentThroughputWithMax(listOfLaunchVehicles,\n",
    "                                                      listOfPayloadSelectsThisYear)\n",
    "        bumpedPayloads = WhichPayloadsGetBumpedFromRide(overmanifestedLVs,listOfPayloadSelectsThisYear)\n",
    "        listOfPayloadSelects, listOfPayloadLaunchYears = HandleBumpedPayloads(listOfPayloadSelects,\n",
    "                                                                              listOfPayloadLaunchYears,\n",
    "                                                                              bumpedPayloads)\n",
    "    return listOfPayloadSelects, listOfPayloadLaunchYears"
   ]
  },
  {
   "cell_type": "code",
   "execution_count": null,
   "metadata": {},
   "outputs": [],
   "source": [
    "def CompareLVCurrentThroughputWithMax(listOfLaunchVehicles,listOfPayloadSelectsThisYear):\n",
    "    for each payload:\n",
    "        # get payload selection\n",
    "        # +1 on lv current throughput\n",
    "    for each lv:\n",
    "        subtract max_throughput from current throughput\n",
    "    return lvLaunchCapacities"
   ]
  },
  {
   "cell_type": "code",
   "execution_count": null,
   "metadata": {},
   "outputs": [],
   "source": [
    "def WhichPayloadsGetBumpedFromRide(overmanifestedLVs,listOfPayloadSelects,listOfPayloadLaunchYears):\n",
    "    # for each lv that is overmanifested\n",
    "        # get how overmanifested\n",
    "        # get payloads that selected the lv\n",
    "        # get operators for the payloads\n",
    "        # get customer priority of the lv for the operator\n",
    "        # add a rand to the cust priorities\n",
    "        # determine the n payloads that exceed the throughput max with the highest values (corresponding to lower priority)\n",
    "        # add payload names to bumped payloads list\n",
    "    return bumpedPayloads"
   ]
  },
  {
   "cell_type": "code",
   "execution_count": null,
   "metadata": {},
   "outputs": [],
   "source": [
    "def HandleBumpedPayloads(listOfPayloadSelects,listOfPayloadLaunchYears,bumpedPayloads):\n",
    "    for each bumpedPayload:\n",
    "        #is there space on 2nd choice lv?\n",
    "        #if not, bump the year\n",
    "        # else, randomly determine whether it switches to 2nd choice or year (50%)\n",
    "    #update payload selects to reflect bump\n",
    "    return listOfPayloadSelects, listOfPayloadLaunchYears"
   ]
  },
  {
   "cell_type": "code",
   "execution_count": null,
   "metadata": {},
   "outputs": [],
   "source": [
    "def CountNumPayloadsPerLV(listOfPayloadSelects,listOfPayloadLaunchYears,listOfLaunchVehicles):\n",
    "    for launchVehicle in listOfLaunchVehicles:\n",
    "        for each year:\n",
    "            # sum # of launches\n",
    "            # sum # of payloads\n",
    "            # launchCountTableUpdate\n",
    "    return launchCountTable"
   ]
  },
  {
   "cell_type": "code",
   "execution_count": null,
   "metadata": {},
   "outputs": [],
   "source": [
    "def AverageAcrossAllRuns(listOfLaunchCountTables):\n",
    "    averageLaunchCountTable = array(numYears,numLaunchVehicles)\n",
    "    for launchCountTable in listOfLaunchCountTables:\n",
    "        # add launchCountTable to averageLaunchCountTable element-wise\n",
    "    #divide averageLaunchCountTable by numRuns\n",
    "    return averageLaunchCountTable"
   ]
  },
  {
   "cell_type": "code",
   "execution_count": 11,
   "metadata": {},
   "outputs": [],
   "source": [
    "def SelectLaunchVehicleForOnePayload(payload,listOfLaunchVehicles):\n",
    "    # A payload selects a launch vehicle originally if:\n",
    "        # The capacity of the LV is less than\n",
    "    listOfPreferences = np.zeros[12] # just guessing that there are 12 launch vehicles at any point\n",
    "    for launchVehicle in listOfLaunchVehicles:\n",
    "        launchable = CanVehicleTakePayload(launchVehicle, payload)\n",
    "        if launchable:\n",
    "            # get payload operator\n",
    "            # get index of launch vehicle\n",
    "            # arrayOfPreferences.extend(operator.preferences[LV_index])\n",
    "        else:\n",
    "            arrayOfPreferences.extend(0)\n",
    "    #sum up all the operator preferences\n",
    "    #get rand with ceiling of sum of operator preferences\n",
    "    #based on rand, select LV\n",
    "    #get launchVehiclename\n",
    "    return launchVehicle.name"
   ]
  },
  {
   "cell_type": "code",
   "execution_count": null,
   "metadata": {},
   "outputs": [],
   "source": [
    "def CanVehicleTakePayload(launchVehicle, payload):\n",
    "    # get payload mass\n",
    "    # get payload target orbit\n",
    "    # and if the launch vehicle mass is less than the capacity of the launch vehicle toward the target orbit\n",
    "            # then 1, else 0\n",
    "    \n",
    "    #if(payload.mass <= (launchVehicle.capacity[payload.destination]-launchVehicle.currentLoad):\n",
    "    #if (launchVehicle.throughput[year-2011]<launchVehicle.max_throughput[year-2011])"
   ]
  },
  {
   "cell_type": "markdown",
   "metadata": {},
   "source": [
    "<h2>Now to try to get different components to actually work</h2>"
   ]
  },
  {
   "cell_type": "code",
   "execution_count": 32,
   "metadata": {},
   "outputs": [],
   "source": [
    "launchVehicles = []\n",
    "with open('LaunchForecastDummyData - LaunchVehicles.csv', newline='') as csvfile:\n",
    "    launchVehiclesCSV = csv.reader(csvfile, delimiter=',', quotechar='|')\n",
    "    rownum = -1\n",
    "    for row in launchVehiclesCSV:\n",
    "        rownum+=1\n",
    "        if (rownum==0):\n",
    "            continue\n",
    "        launchVehicles.append(row)\n",
    "        "
   ]
  },
  {
   "cell_type": "code",
   "execution_count": 33,
   "metadata": {},
   "outputs": [
    {
     "name": "stdout",
     "output_type": "stream",
     "text": [
      "[['LV_1', '20000', '20000', '30000', '20000', '15', '1', '2', '3', '4', '5', '6', '7', '8', '9', '10'], ['LV_2', '0', '0', '10000', '20000', '30', '5', '6', '7', '1', '2', '3', '4', '8', '9', '10'], ['LV_3', '0', '0', '30000', '0', '30', '8', '9', '10', '1', '2', '3', '4', '6', '7', '4'], ['LV_4', '10000', '10000', '20000', '10000', '25', '10', '9', '8', '7', '6', '5', '4', '3', '2', '1'], ['LV_5', '30000', '30000', '40000', '0', '10', '1', '2', '3', '4', '5', '6', '7', '8', '9', '10']]\n"
     ]
    }
   ],
   "source": [
    "print(launchVehicles)"
   ]
  },
  {
   "cell_type": "code",
   "execution_count": 34,
   "metadata": {},
   "outputs": [
    {
     "data": {
      "text/plain": [
       "['LV_1',\n",
       " '20000',\n",
       " '20000',\n",
       " '30000',\n",
       " '20000',\n",
       " '15',\n",
       " '1',\n",
       " '2',\n",
       " '3',\n",
       " '4',\n",
       " '5',\n",
       " '6',\n",
       " '7',\n",
       " '8',\n",
       " '9',\n",
       " '10']"
      ]
     },
     "execution_count": 34,
     "metadata": {},
     "output_type": "execute_result"
    }
   ],
   "source": [
    "launchVehicles[0]"
   ]
  },
  {
   "cell_type": "code",
   "execution_count": null,
   "metadata": {},
   "outputs": [],
   "source": []
  }
 ],
 "metadata": {
  "kernelspec": {
   "display_name": "Python 3",
   "language": "python",
   "name": "python3"
  },
  "language_info": {
   "codemirror_mode": {
    "name": "ipython",
    "version": 3
   },
   "file_extension": ".py",
   "mimetype": "text/x-python",
   "name": "python",
   "nbconvert_exporter": "python",
   "pygments_lexer": "ipython3",
   "version": "3.6.4"
  }
 },
 "nbformat": 4,
 "nbformat_minor": 2
}
